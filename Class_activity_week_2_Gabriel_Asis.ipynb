{
  "nbformat": 4,
  "nbformat_minor": 0,
  "metadata": {
    "colab": {
      "provenance": []
    },
    "kernelspec": {
      "name": "python3",
      "display_name": "Python 3"
    },
    "language_info": {
      "name": "python"
    }
  },
  "cells": [
    {
      "cell_type": "markdown",
      "source": [
        "Task 1:"
      ],
      "metadata": {
        "id": "F6ik6EH-wqwJ"
      }
    },
    {
      "cell_type": "code",
      "execution_count": 11,
      "metadata": {
        "colab": {
          "base_uri": "https://localhost:8080/"
        },
        "id": "frXUT9G8vxAo",
        "outputId": "4062c30d-d1f4-4d3a-d2fa-479ce166813e"
      },
      "outputs": [
        {
          "output_type": "stream",
          "name": "stdout",
          "text": [
            "Adittion:\n",
            "7\n",
            "Subtraction:\n",
            "3\n",
            "Multiplication:\n",
            "10\n",
            "Division:\n",
            "2.5\n"
          ]
        }
      ],
      "source": [
        "a=5\n",
        "b=2\n",
        "print(\"Adittion:\")\n",
        "print(a+b)\n",
        "\n",
        "print(\"Subtraction:\")\n",
        "print(a-b)\n",
        "\n",
        "print(\"Multiplication:\")\n",
        "print(a*b)\n",
        "\n",
        "print(\"Division:\")\n",
        "print(a/b)"
      ]
    },
    {
      "cell_type": "markdown",
      "source": [
        "Task 2:"
      ],
      "metadata": {
        "id": "8BehDPmrwwmO"
      }
    },
    {
      "cell_type": "code",
      "source": [
        "money=100\n",
        "retrn=10\n",
        "print(\"We currently have this amount of money:\")\n",
        "print(100)\n",
        "print(\"Investing the 100$ for a 10% return for 7 years will give us:\")\n",
        "y=retrn*7\n",
        "print(y)"
      ],
      "metadata": {
        "colab": {
          "base_uri": "https://localhost:8080/"
        },
        "id": "UJ0C_VW8wzs5",
        "outputId": "465a1666-2483-4ef5-dc81-d870ba528a8c"
      },
      "execution_count": 9,
      "outputs": [
        {
          "output_type": "stream",
          "name": "stdout",
          "text": [
            "We currently have this amount of money:\n",
            "100\n",
            "Investing the 100$ for a 10% return for 7 years will give us:\n",
            "70\n"
          ]
        }
      ]
    },
    {
      "cell_type": "markdown",
      "source": [
        "Task 3:"
      ],
      "metadata": {
        "id": "NuoARkVJzifk"
      }
    },
    {
      "cell_type": "code",
      "source": [
        "savings=100\n",
        "print(savings)"
      ],
      "metadata": {
        "colab": {
          "base_uri": "https://localhost:8080/"
        },
        "id": "ofAb243Yzmep",
        "outputId": "ee080b5f-b692-4ccb-f49b-5f123ef68f67"
      },
      "execution_count": 12,
      "outputs": [
        {
          "output_type": "stream",
          "name": "stdout",
          "text": [
            "100\n"
          ]
        }
      ]
    },
    {
      "cell_type": "markdown",
      "source": [
        "Task 4:"
      ],
      "metadata": {
        "id": "DHLpFsVjzs3q"
      }
    },
    {
      "cell_type": "code",
      "source": [
        "money=100\n",
        "growth_multiplier=1.1\n",
        "result=money*growth_multiplier**7\n",
        "print(\"Money saved after 7 years\")\n",
        "print(result)\n",
        "\n"
      ],
      "metadata": {
        "colab": {
          "base_uri": "https://localhost:8080/"
        },
        "id": "1jruoYlbzuF9",
        "outputId": "f388118c-df1d-4991-bde1-4f45dd2d4508"
      },
      "execution_count": 14,
      "outputs": [
        {
          "output_type": "stream",
          "name": "stdout",
          "text": [
            "Money saved after 7 years\n",
            "194.87171000000012\n"
          ]
        }
      ]
    }
  ]
}